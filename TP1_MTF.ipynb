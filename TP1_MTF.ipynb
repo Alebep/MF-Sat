{
 "cells": [
  {
   "cell_type": "markdown",
   "metadata": {
    "id": "jF-3Be3FhVSv"
   },
   "source": [
    "# Trab-SAT\n",
    "* Nome: Alexandre Rosa\n",
    "* Curso: MEI(Mestrado Engenharia Informática)"
   ]
  },
  {
   "cell_type": "markdown",
   "metadata": {
    "id": "35Y3VXZbfZ8z"
   },
   "source": [
    "Começamos por instalar a biblioteca `PySAT`."
   ]
  },
  {
   "cell_type": "code",
   "execution_count": 28,
   "metadata": {
    "colab": {
     "base_uri": "https://localhost:8080/"
    },
    "id": "W_hy8TQGdvC_",
    "outputId": "2618de05-9060-4d7d-ad8d-f5b2001627da"
   },
   "outputs": [
    {
     "name": "stdout",
     "output_type": "stream",
     "text": [
      "Looking in indexes: https://pypi.org/simple, https://us-python.pkg.dev/colab-wheels/public/simple/\n",
      "Requirement already satisfied: python-sat[aiger,pblib] in /usr/local/lib/python3.7/dist-packages (0.1.7.dev19)\n",
      "Requirement already satisfied: six in /usr/local/lib/python3.7/dist-packages (from python-sat[aiger,pblib]) (1.15.0)\n",
      "Requirement already satisfied: pypblib>=0.0.3 in /usr/local/lib/python3.7/dist-packages (from python-sat[aiger,pblib]) (0.0.4)\n",
      "Requirement already satisfied: py-aiger-cnf>=2.0.0 in /usr/local/lib/python3.7/dist-packages (from python-sat[aiger,pblib]) (5.0.4)\n",
      "Requirement already satisfied: funcy<2.0,>=1.12 in /usr/local/lib/python3.7/dist-packages (from py-aiger-cnf>=2.0.0->python-sat[aiger,pblib]) (1.17)\n",
      "Requirement already satisfied: bidict<0.22.0,>=0.21.0 in /usr/local/lib/python3.7/dist-packages (from py-aiger-cnf>=2.0.0->python-sat[aiger,pblib]) (0.21.4)\n",
      "Requirement already satisfied: py-aiger<7.0.0,>=6.0.0 in /usr/local/lib/python3.7/dist-packages (from py-aiger-cnf>=2.0.0->python-sat[aiger,pblib]) (6.1.25)\n",
      "Requirement already satisfied: parsimonious<0.9.0,>=0.8.1 in /usr/local/lib/python3.7/dist-packages (from py-aiger<7.0.0,>=6.0.0->py-aiger-cnf>=2.0.0->python-sat[aiger,pblib]) (0.8.1)\n",
      "Requirement already satisfied: sortedcontainers<3.0.0,>=2.3.0 in /usr/local/lib/python3.7/dist-packages (from py-aiger<7.0.0,>=6.0.0->py-aiger-cnf>=2.0.0->python-sat[aiger,pblib]) (2.4.0)\n",
      "Requirement already satisfied: toposort<2.0,>=1.5 in /usr/local/lib/python3.7/dist-packages (from py-aiger<7.0.0,>=6.0.0->py-aiger-cnf>=2.0.0->python-sat[aiger,pblib]) (1.7)\n",
      "Requirement already satisfied: pyrsistent<0.19.0,>=0.18.0 in /usr/local/lib/python3.7/dist-packages (from py-aiger<7.0.0,>=6.0.0->py-aiger-cnf>=2.0.0->python-sat[aiger,pblib]) (0.18.1)\n",
      "Requirement already satisfied: attrs<22,>=21 in /usr/local/lib/python3.7/dist-packages (from py-aiger<7.0.0,>=6.0.0->py-aiger-cnf>=2.0.0->python-sat[aiger,pblib]) (21.4.0)\n"
     ]
    }
   ],
   "source": [
    "\n",
    "!pip install python-sat[pblib,aiger]"
   ]
  },
  {
   "cell_type": "markdown",
   "metadata": {
    "id": "-QnzcCkzoI5p"
   },
   "source": [
    "## Exercicio 1"
   ]
  },
  {
   "cell_type": "markdown",
   "metadata": {
    "id": "NhKIH2HiKrzz"
   },
   "source": [
    "Transformando as frase em proposicoes:\n",
    "\n",
    "* A motherboard MB1 quando combinada com a placa gráfica PG1, obriga à \n",
    "utilização da RAM1:\n",
    "(MB1/\\PG1)->RAM1\n",
    " \n",
    "* A placa gráfica PG1 precisa do CPU1, excepto quando combinada com uma memória\n",
    "RAM2:\n",
    "(PG2/\\ -RAM2)->CPU1\n",
    "\n",
    "* O CPU2 só pode ser instalado na motherboard MB2:\n",
    "CPU2->MB2\n",
    "\n",
    "* O monitor MON1 para poder funcionar precisa da placa gráfica PG1 e da memória\n",
    "RAM2:\n",
    "MON1->(PG1/\\RAM2)\n",
    "\n",
    "* O monitor MON2 precisa da memória RAM2 para poder trabalhar com a placa gráfica\n",
    "PG3:\n",
    "(PG3/\\MON2)->RAM2"
   ]
  },
  {
   "cell_type": "markdown",
   "metadata": {
    "id": "nsI59hsmNB8p"
   },
   "source": [
    "## Exercicio 2"
   ]
  },
  {
   "cell_type": "code",
   "execution_count": 29,
   "metadata": {
    "id": "a0owAoxwoTFR"
   },
   "outputs": [],
   "source": [
    "d = ['MB1','MB2','RAM1','RAM2','CPU1','CPU2','PG1','PG2','PG3','MON1','MON2']\n",
    "l = {}\n",
    "i = 0;\n",
    "for x in d:\n",
    "   i=i+1\n",
    "   l[x] = i"
   ]
  },
  {
   "cell_type": "code",
   "execution_count": 30,
   "metadata": {
    "id": "P7ZgvGAK3ynz"
   },
   "outputs": [],
   "source": [
    "from pysat.solvers import Minisat22"
   ]
  },
  {
   "cell_type": "code",
   "execution_count": 31,
   "metadata": {
    "id": "IeLuJunRccr-"
   },
   "outputs": [],
   "source": [
    " # A função sol, ela contem todas as clausulas inicias do problema,\n",
    "# e o usuário pode passar como parâmetro novas clausulas, a saída da função será\n",
    "# SAT ou UNSAT. \n",
    "def sol(list):\n",
    "\n",
    "  s = Minisat22()\n",
    "  #Clausulas já acima expressas, mas no caso no formato cnf.\n",
    "  s.add_clause([-l['MB1'], -l['PG1'], l['RAM1']])          \n",
    "  s.add_clause([-l['PG2'],l['RAM2'],l['CPU1']])\n",
    "  s.add_clause([-l['CPU2'],l['MB2']])\n",
    "  s.add_clause([l['PG1'],l['MON1']])\n",
    "  s.add_clause([l['RAM2'],l['MON1']])\n",
    "  s.add_clause([-l['PG3'],-l['MON2'],l['RAM2']])\n",
    "  #Restrições da CPU\n",
    "  s.add_clause([l['CPU1'],l['CPU2']])\n",
    "  s.add_clause([-l['CPU1'],-l['CPU2']])\n",
    "  #Restrições da RAM\n",
    "  s.add_clause([l['RAM1'],l['RAM2']])\n",
    "  s.add_clause([-l['RAM1'],-l['RAM2']])\n",
    "  ##Restrições da Mother board\n",
    "  s.add_clause([l['MB1'],l['MB2']])\n",
    "  s.add_clause([-l['MB1'],-l['MB2']])\n",
    "  #Restrições da placa gráfica \n",
    "  s.add_clause([l['PG1'],l['PG2'],l['PG3']])\n",
    "  s.add_clause([-l['PG1'],-l['PG2']])\n",
    "  s.add_clause([-l['PG1'],-l['PG3']])\n",
    "  s.add_clause([-l['PG2'],-l['PG3']])\n",
    "  #Ciclo para adicionar novas clausulas(Restrições).\n",
    "  if(list):\n",
    "    for x in list:\n",
    "      s.add_clause(list[x])\n",
    "  else:\n",
    "      print('Resultado inicial: ')\n",
    "  #Testando a satisfatibilidade\n",
    "  if s.solve():                  \n",
    "      return \"SAT\"\n",
    "  else: \n",
    "      return \"UNSAT\""
   ]
  },
  {
   "cell_type": "code",
   "execution_count": 32,
   "metadata": {
    "colab": {
     "base_uri": "https://localhost:8080/",
     "height": 53
    },
    "id": "utLm8zyBIfJh",
    "outputId": "938dced4-72d2-4390-f8f2-046968232aee"
   },
   "outputs": [
    {
     "name": "stdout",
     "output_type": "stream",
     "text": [
      "Resultado inicial: \n"
     ]
    },
    {
     "data": {
      "application/vnd.google.colaboratory.intrinsic+json": {
       "type": "string"
      },
      "text/plain": [
       "'SAT'"
      ]
     },
     "execution_count": 32,
     "metadata": {},
     "output_type": "execute_result"
    }
   ],
   "source": [
    "#verificar se o problema é satisfazivel\n",
    "sol({})"
   ]
  },
  {
   "cell_type": "markdown",
   "metadata": {
    "id": "jDZB67baNI-L"
   },
   "source": [
    "## Exercicio 3"
   ]
  },
  {
   "cell_type": "markdown",
   "metadata": {
    "id": "INlVbtty8SW2"
   },
   "source": [
    "### (a) O monitor MON1 só poderá ser usado com uma motherboard MB1 ? \n",
    "\n",
    "Resposta: Não, existem outras clausulas que também satisfazem, ou seja, poderá ser usar em outra motherboard"
   ]
  },
  {
   "cell_type": "code",
   "execution_count": 33,
   "metadata": {
    "colab": {
     "base_uri": "https://localhost:8080/",
     "height": 35
    },
    "id": "TDLIZCTDFhE3",
    "outputId": "89a05c01-763b-48fe-9e34-237f2baef3be"
   },
   "outputs": [
    {
     "data": {
      "application/vnd.google.colaboratory.intrinsic+json": {
       "type": "string"
      },
      "text/plain": [
       "'SAT'"
      ]
     },
     "execution_count": 33,
     "metadata": {},
     "output_type": "execute_result"
    }
   ],
   "source": [
    "r = {'c1':[-l['MB1']],'c2':[l['MON1']]}\n",
    "t = sol(r)\n",
    "t"
   ]
  },
  {
   "cell_type": "markdown",
   "metadata": {
    "id": "JI91m3Bx-XLF"
   },
   "source": [
    "### (b) Um cliente pode personalizar o seu computador da seguinte forma: uma motherboard MB1, o CPU1, a placa gráfica PG2 e a memória RAM1 ?\n",
    "Resposta: Sim."
   ]
  },
  {
   "cell_type": "code",
   "execution_count": 34,
   "metadata": {
    "colab": {
     "base_uri": "https://localhost:8080/",
     "height": 35
    },
    "id": "WlU3ZzpZHKxR",
    "outputId": "a8b98322-0053-480f-c94f-efecab14fd3e"
   },
   "outputs": [
    {
     "data": {
      "application/vnd.google.colaboratory.intrinsic+json": {
       "type": "string"
      },
      "text/plain": [
       "'SAT'"
      ]
     },
     "execution_count": 34,
     "metadata": {},
     "output_type": "execute_result"
    }
   ],
   "source": [
    "r = {'c1':[l['MB1']],'c2':[l['CPU1']],'c3':[l['PG2']],'c4':[l['PG2']]}\n",
    "t = sol(r)\n",
    "t"
   ]
  },
  {
   "cell_type": "markdown",
   "metadata": {
    "id": "EhGnS1GYnhJD"
   },
   "source": [
    "### (c) É possivel combinar a motherboard MB2, a placa gráfica PG3 e a RAM1 num mesmo computador ?\n",
    "Resposta: Sim."
   ]
  },
  {
   "cell_type": "code",
   "execution_count": 35,
   "metadata": {
    "colab": {
     "base_uri": "https://localhost:8080/",
     "height": 35
    },
    "id": "taV8bPbDHxal",
    "outputId": "40b84ea5-8096-42de-e282-368a287b5d4a"
   },
   "outputs": [
    {
     "data": {
      "application/vnd.google.colaboratory.intrinsic+json": {
       "type": "string"
      },
      "text/plain": [
       "'SAT'"
      ]
     },
     "execution_count": 35,
     "metadata": {},
     "output_type": "execute_result"
    }
   ],
   "source": [
    "r = {'c1':[l['MB2']],'c2':[l['PG3']],'c3':[l['RAM1']]}\n",
    "t = sol(r)\n",
    "t"
   ]
  },
  {
   "cell_type": "markdown",
   "metadata": {
    "id": "5mO9mK-_LB_J"
   },
   "source": [
    "### (d) Para combinarmos a placa gráfica PG2 e a RAM1 temos que usar o CPU2 ?\n",
    "Resposta:Sim, só podemos combinar a PG2 e a RAM1 com a CPU2."
   ]
  },
  {
   "cell_type": "code",
   "execution_count": 36,
   "metadata": {
    "colab": {
     "base_uri": "https://localhost:8080/",
     "height": 35
    },
    "id": "FMEybCBJL4o0",
    "outputId": "85d2d970-a2a9-427d-cdd2-2be53e2e4ae1"
   },
   "outputs": [
    {
     "data": {
      "application/vnd.google.colaboratory.intrinsic+json": {
       "type": "string"
      },
      "text/plain": [
       "'UNSAT'"
      ]
     },
     "execution_count": 36,
     "metadata": {},
     "output_type": "execute_result"
    }
   ],
   "source": [
    "r = {'c1':[l['PG2']],'c2':[l['RAM1']],'c3':[l['CPU2']]}\n",
    "t = sol(r)\n",
    "t"
   ]
  }
 ],
 "metadata": {
  "colab": {
   "collapsed_sections": [],
   "provenance": []
  },
  "kernelspec": {
   "display_name": "Python 3 (ipykernel)",
   "language": "python",
   "name": "python3"
  },
  "language_info": {
   "codemirror_mode": {
    "name": "ipython",
    "version": 3
   },
   "file_extension": ".py",
   "mimetype": "text/x-python",
   "name": "python",
   "nbconvert_exporter": "python",
   "pygments_lexer": "ipython3",
   "version": "3.9.12"
  }
 },
 "nbformat": 4,
 "nbformat_minor": 1
}
